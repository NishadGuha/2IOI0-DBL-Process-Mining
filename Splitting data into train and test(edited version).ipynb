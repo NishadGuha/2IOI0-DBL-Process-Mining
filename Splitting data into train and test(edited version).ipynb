{
 "cells": [
  {
   "cell_type": "code",
   "execution_count": 1,
   "metadata": {},
   "outputs": [],
   "source": [
    "import pandas as pd\n",
    "from scipy.stats import mode\n",
    "from datetime import datetime\n",
    "import os\n",
    "from sklearn.model_selection import train_test_split"
   ]
  },
  {
   "cell_type": "code",
   "execution_count": 2,
   "metadata": {},
   "outputs": [],
   "source": [
    "# Import dataset\n",
    "df_1 = pd.read_csv('BPI_Challenge_2012-training.csv')\n",
    "df_2 = pd.read_csv('BPI_Challenge_2012-test.csv')\n",
    "\n",
    "# Merge \n",
    "frames = [df_1, df_2]\n",
    "df = pd.concat(frames)\n",
    "df.reset_index(drop=True, inplace=True)\n",
    "\n",
    "# Parse the timestamp and convert it into y-m-d form\n",
    "df['event time:timestamp'] = pd.to_datetime(df['event time:timestamp'], format = '%d-%m-%Y %H:%M:%S.%f')\n",
    "\n",
    "# Sort data by timestamp in ascending order\n",
    "df.sort_values(['event time:timestamp'], axis=0, inplace=True)\n",
    "\n",
    "# Split data into the training and test dataset\n",
    "df_train, df_test = train_test_split(df, test_size=0.2, shuffle = False)"
   ]
  }
 ],
 "metadata": {
  "kernelspec": {
   "display_name": "Python 3",
   "language": "python",
   "name": "python3"
  },
  "language_info": {
   "codemirror_mode": {
    "name": "ipython",
    "version": 3
   },
   "file_extension": ".py",
   "mimetype": "text/x-python",
   "name": "python",
   "nbconvert_exporter": "python",
   "pygments_lexer": "ipython3",
   "version": "3.7.3"
  }
 },
 "nbformat": 4,
 "nbformat_minor": 2
}
