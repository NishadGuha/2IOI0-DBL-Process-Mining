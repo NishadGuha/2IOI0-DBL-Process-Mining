{
 "cells": [
  {
   "cell_type": "code",
   "execution_count": null,
   "metadata": {},
   "outputs": [],
   "source": [
    "import pandas as pd\n",
    "import os\n",
    "from sklearn.model_selection import train_test_split"
   ]
  },
  {
   "cell_type": "code",
   "execution_count": null,
   "metadata": {},
   "outputs": [],
   "source": [
    "# import\n",
    "df_2012 = pd.read_csv('datasets/BPI_Challenge_2012-training.csv')\n",
    "df_test = pd.read_csv('datasets/BPI_Challenge_2012-test.csv')\n",
    "\n",
    "# conca\n",
    "frames = [df_2012, df_test]\n",
    "df_result = pd.concat(frames)"
   ]
  },
  {
   "cell_type": "code",
   "execution_count": null,
   "metadata": {},
   "outputs": [],
   "source": [
    "# sort\n",
    "pd.to_datetime(df['event time:timestamp'], format = '%d-%m-%Y %H:%M:%S.%f')\\\n",
    "# split\n",
    "train, test = train_test_split(df, test_size=0.2, shuffle = False)"
   ]
  },
  {
   "cell_type": "code",
   "execution_count": null,
   "metadata": {},
   "outputs": [],
   "source": [
    "# save to files\n",
    "train.to_csv('datasets/BPI_2012_train.csv')\n",
    "test.to_csv('datasets/BPI_2012_test.csv')"
   ]
  }
 ],
 "metadata": {
  "kernelspec": {
   "display_name": "Python 3",
   "language": "python",
   "name": "python3"
  },
  "language_info": {
   "codemirror_mode": {
    "name": "ipython",
    "version": 3
   },
   "file_extension": ".py",
   "mimetype": "text/x-python",
   "name": "python",
   "nbconvert_exporter": "python",
   "pygments_lexer": "ipython3",
   "version": "3.7.3"
  }
 },
 "nbformat": 4,
 "nbformat_minor": 4
}
