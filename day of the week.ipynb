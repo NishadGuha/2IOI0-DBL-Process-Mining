{
 "cells": [
  {
   "cell_type": "code",
   "execution_count": 1,
   "metadata": {},
   "outputs": [],
   "source": [
    "import pandas as pd\n",
    "import os\n",
    "from sklearn.model_selection import train_test_split\n",
    "from scipy.stats import mode\n",
    "import operator\n",
    "import functools\n",
    "import datetime \n",
    "\n",
    "# Read input\n",
    "df1 = pd.read_csv('datasets/BPI Challenge 2017-training.csv')\n",
    "df2 = pd.read_csv('datasets/BPI Challenge 2017-test.csv')\n",
    "frames = [df1, df2]\n",
    "df = pd.concat(frames)\n",
    "df.reset_index(drop=True, inplace=True)\n",
    "\n",
    "\n",
    "# Parse the timestamp and convert it into y-m-d form\n",
    "df['event time:timestamp'] = pd.to_datetime(df['event time:timestamp'], format = '%d-%m-%Y %H:%M:%S.%f')\n",
    "\n",
    "# Sort data by timestamp in ascending order\n",
    "df.sort_values(['event time:timestamp'], axis=0, inplace=True)\n",
    "    \n",
    "# split into train set and test set (80/20)\n",
    "df_train, df_test = train_test_split(df, test_size=0.2, shuffle = False)\n",
    "# remove cases started in the training set\n",
    "df_test = df_test[~df_test['case concept:name'].isin(df_train['case concept:name'].values)]\n",
    "\n",
    "# Reset index\n",
    "df_train.reset_index(drop=True, inplace=True)\n",
    "df_test.reset_index(drop=True, inplace=True)\n",
    "\n",
    "# Assign position number to each event\n",
    "df_sort = df_train.set_index(df_train.groupby('case concept:name').cumcount(), append = True)\n",
    "\n"
   ]
  },
  {
   "cell_type": "code",
   "execution_count": 2,
   "metadata": {},
   "outputs": [],
   "source": [
    "df_sort['day of the week'] = df_sort['event time:timestamp'].dt.dayofweek"
   ]
  },
  {
   "cell_type": "code",
   "execution_count": 3,
   "metadata": {},
   "outputs": [],
   "source": [
    "avg_day = df_sort.groupby(level=1)['day of the week'].apply(\n",
    "    lambda x: x.mean()\n",
    ")"
   ]
  },
  {
   "cell_type": "code",
   "execution_count": null,
   "metadata": {},
   "outputs": [],
   "source": [
    "\n",
    "res = df_sort.merge(avg_day, left_on = df_sort.index.get_level_values(1).values, right_index = True, how = 'left')"
   ]
  }
 ],
 "metadata": {
  "kernelspec": {
   "display_name": "Python 3",
   "language": "python",
   "name": "python3"
  },
  "language_info": {
   "codemirror_mode": {
    "name": "ipython",
    "version": 3
   },
   "file_extension": ".py",
   "mimetype": "text/x-python",
   "name": "python",
   "nbconvert_exporter": "python",
   "pygments_lexer": "ipython3",
   "version": "3.7.3"
  }
 },
 "nbformat": 4,
 "nbformat_minor": 4
}
