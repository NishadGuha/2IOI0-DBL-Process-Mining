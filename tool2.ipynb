{
 "cells": [
  {
   "cell_type": "code",
   "execution_count": null,
   "metadata": {},
   "outputs": [],
   "source": [
    "# This cell should be run in order to execute the predictions. It will ask for an input. \n",
    "# Also, a name for the output file with the predictions should be given. It will be stored in the same folder as the\n",
    "# tool itself and the datasets. The accuracy and error measurement of both prediction models for event and time \n",
    "# can be found in the poster.\n",
    "\n",
    "import pandas as pd\n",
    "import os\n",
    "from sklearn.model_selection import train_test_split\n",
    "from scipy.stats import mode\n",
    "import operator\n",
    "import functools\n",
    "import datetime \n",
    "\n",
    "def process_data():\n",
    "    # Read input\n",
    "    dataset = input(\"Please enter the path of the CSV file: \")\n",
    "    output_name = input(\"Please enter the name (and path) of the output file: \")\n",
    "    df = pd.read_csv(dataset)\n",
    "\n",
    "    # Parse the timestamp and convert it into y-m-d form\n",
    "    df['event time:timestamp'] = pd.to_datetime(df['event time:timestamp'], format = '%d-%m-%Y %H:%M:%S.%f')\n",
    "\n",
    "    # Sort data by timestamp in ascending order\n",
    "    df.sort_values(['event time:timestamp'], axis=0, inplace=True)\n",
    "    \n",
    "    # split into train set and test set (80/20)\n",
    "    df_train, df_test = train_test_split(df, test_size=0.2, shuffle = False)\n",
    "    \n",
    "    # remove cases started in the training set\n",
    "    df_test = df_test[df_test['case concept:name'].isin(df_train['case concept:name'].values)]\n",
    "\n",
    "    # Reset index\n",
    "    df_train.reset_index(drop=True, inplace=True)\n",
    "    df_test.reset_index(drop=True, inplace=True)\n",
    "    \n",
    "    return (df_train, df_test, output_name)\n",
    "\n",
    "# Functions for event and time prediction, either in one def like last time or split \n",
    "\n",
    "def prediction(df_train, df_test):\n",
    "    # Assign position number to each event\n",
    "    df_train = df_train.set_index(df_train.groupby('case concept:name').cumcount(), append = True)\n",
    "    df_test = df_test.set_index(df_test.groupby('case concept:name').cumcount(), append = True)\n",
    "    \n",
    "    #calculate time since started for each case\n",
    "    df_train = df_train.assign(time_since_started=df_train.groupby('case concept:name')['event time:timestamp'].apply(lambda x: x - x.iloc[0]))\n",
    "    \n",
    "    #groupby case concept and calculate average for each position\n",
    "    avg_timespan = df_train.groupby(level=1)['time_since_started'].apply(\n",
    "        lambda x: x.astype('timedelta64[s]').mean()\n",
    "    )\n",
    "\n",
    "    # merge\n",
    "    result = df_test.merge(avg_timespan, left_on = df_test.index.get_level_values(1).values, right_index = True, how = 'left')\n",
    "    \n",
    "    result['time_since_started']=result['time_since_started'].astype('timedelta64[s]')\n",
    "    result['time_prediction']= result.groupby('case concept:name')['event time:timestamp'].transform(lambda x: x.min())+ result['time_since_started']\n",
    "    \n",
    "    result = result.drop('Unnamed: 0', axis=1)\n",
    "    \n",
    "    return result\n",
    "\n",
    "def save_results(output_name):\n",
    "    result.to_csv(output_name + \".csv\")"
   ]
  },
  {
   "cell_type": "code",
   "execution_count": null,
   "metadata": {},
   "outputs": [],
   "source": [
    "df_train, df_test, output_name = process_data()\n",
    "result = prediction(df_train, df_test)\n",
    "save_results(output_name)"
   ]
  },
  {
   "cell_type": "code",
   "execution_count": null,
   "metadata": {},
   "outputs": [],
   "source": []
  }
 ],
 "metadata": {
  "kernelspec": {
   "display_name": "Python 3",
   "language": "python",
   "name": "python3"
  },
  "language_info": {
   "codemirror_mode": {
    "name": "ipython",
    "version": 3
   },
   "file_extension": ".py",
   "mimetype": "text/x-python",
   "name": "python",
   "nbconvert_exporter": "python",
   "pygments_lexer": "ipython3",
   "version": "3.7.3"
  }
 },
 "nbformat": 4,
 "nbformat_minor": 2
}
