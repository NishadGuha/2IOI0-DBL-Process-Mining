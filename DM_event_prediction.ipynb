{
 "cells": [
  {
   "cell_type": "code",
   "execution_count": 1,
   "metadata": {},
   "outputs": [],
   "source": [
    "import pandas as pd\n",
    "import os\n",
    "import datetime\n",
    "import matplotlib.pyplot as plt\n",
    "from scipy.stats import mode\n",
    "import operator\n",
    "import functools \n",
    "import statistics"
   ]
  },
  {
   "cell_type": "code",
   "execution_count": 2,
   "metadata": {},
   "outputs": [],
   "source": [
    "def df_filter_cols(df_original):\n",
    "    df_cols1 = df_original.set_index(df_original.groupby('case concept:name').cumcount(), append = True)\n",
    "    df_cols1 = df_cols1.reset_index()\n",
    "    df_cols2 = df_cols1[[ \"level_1\",  \"eventID \", \"case concept:name\", \"event concept:name\", \"event lifecycle:transition\"]]\n",
    "    return df_cols2"
   ]
  },
  {
   "cell_type": "code",
   "execution_count": 3,
   "metadata": {},
   "outputs": [],
   "source": [
    "def create_case_dictionary(df):\n",
    "    df[\"case concept:name\"].unique()\n",
    "    case_events={}\n",
    "    df.sort_values(\"level_1\")\n",
    "\n",
    "    for index, row in df.iterrows():\n",
    "        if row[\"level_1\"] == 0:\n",
    "            case_events.update({row[\"case concept:name\"] : [\"X\"]})\n",
    "        case_events.get(row[\"case concept:name\"]).append(row[\"event concept:name\"])\n",
    "    return case_events"
   ]
  },
  {
   "cell_type": "code",
   "execution_count": 4,
   "metadata": {},
   "outputs": [],
   "source": [
    "def calc_distances(event_dictionary, case_number):\n",
    "    trace_distances = {}\n",
    "    a = []\n",
    "    a.clear()\n",
    "    a.append(event_dictionary.get(case_number))\n",
    "    d=[]\n",
    "\n",
    "    for key, value in event_dictionary.items():\n",
    "        if key == case_number:\n",
    "            continue    \n",
    "    \n",
    "        for i in range (0, len(a)):\n",
    "            d.append([i])\n",
    "\n",
    "        for j in range (0, len(value)):\n",
    "            d[0].insert(j, j)\n",
    "    \n",
    "        for i in range (1, len(a)):\n",
    "            for j in range (1, len(value)):\n",
    "                if a[i] == value[j]:\n",
    "                    cost = 0\n",
    "                else:\n",
    "                    cost = 1\n",
    "                    \n",
    "                d[i].insert(j, min(d[i-1][j] + 1,\n",
    "                             d[i][j-1] + 1,\n",
    "                             d[i-1][j-1]+cost))\n",
    "                if i>1 and j>1 and a[i] == value[j-1] and a[i-1] == value[j]:\n",
    "                    d[i].insert(j, min(d[i][j], d[i-2][j-2] + 1))\n",
    "                    d[i].pop(j+1)\n",
    "                    \n",
    "        trace_distances.update({key:d[len(a)-1][len(value)-1]})\n",
    "        d.clear()\n",
    "        \n",
    "    a.clear()\n",
    "    d.clear()\n",
    "    return trace_distances"
   ]
  },
  {
   "cell_type": "code",
   "execution_count": 5,
   "metadata": {},
   "outputs": [],
   "source": [
    "def filter_df_similar_maxdist(df_original, case_events, case_number, maxdist):\n",
    "    distance_dict = calc_distances(case_events, case_number)\n",
    "    distance_dict_filtered= []\n",
    "    for (key, value) in distance_dict.items():\n",
    "        if value <= maxdist:\n",
    "            distance_dict_filtered.append(key)\n",
    "    df_filtered = df_original[(df_original[\"case concept:name\"].isin(distance_dict_filtered))][[\"case concept:name\", \"event concept:name\"]]\n",
    "    return df_filtered\n",
    "\n",
    "def filter_df_similar_closestx(df_original, case_events, case_number, x):\n",
    "    distance_dict = calc_distances(case_events, case_number)\n",
    "    distance_dict_filtered = sorted(distance_dict, key=distance_dict.get, reverse=True)[:x] \n",
    "    df_filtered = df_original[(df_original[\"case concept:name\"].isin(distance_dict_filtered))][[\"case concept:name\", \"event concept:name\"]]\n",
    "    return df_filtered"
   ]
  },
  {
   "cell_type": "code",
   "execution_count": 6,
   "metadata": {},
   "outputs": [],
   "source": [
    "from collections import Counter\n",
    "def get_first_mode(a):\n",
    "    c = Counter(a)  \n",
    "    mode_count = max(c.values())\n",
    "    mode = {key for key, count in c.items() if count == mode_count}\n",
    "    first_mode = next(x for x in a if x in mode)\n",
    "    return first_mode"
   ]
  },
  {
   "cell_type": "code",
   "execution_count": 7,
   "metadata": {},
   "outputs": [],
   "source": [
    "def add_predicted_events(df_2012): \n",
    "    filter_method = input(\"Please enter how you would like to filter on cases(maxdist/closestx):\")\n",
    "    if filter_method == \"maxdist\":\n",
    "        n = int(input(\"Please enter the maximum Damerau-Levenshtein distance for traces to be used in predictions:\"))\n",
    "    if filter_method == \"closestx\":\n",
    "        n = int(input(\"Please enter the the number of similar traces used when predicting an event:\"))\n",
    "    if filter_method != \"maxdist\" and filter_method != \"closestx\":\n",
    "        print(\"Invalid method entered. Please enter either 'maxdist' or 'closestx'\")\n",
    "        raise KeyboardInterrupt\n",
    "    print(\"Now predicting events.. Please be patient as this can take a while depending on the size of the input file.\")\n",
    "    \n",
    "    df_cols = df_filter_cols(df_2012)\n",
    "    case_events = create_case_dictionary(df_cols)\n",
    "    df_cols = df_cols[[\"eventID \", \"case concept:name\", \"event concept:name\"]]\n",
    "    df_dictionary = {}\n",
    "    \n",
    "    for row in df_cols.itertuples(index=True):\n",
    "        mostcommonevent = 'bla'\n",
    "        eventlist=['x']\n",
    "        currentrow = row[0]\n",
    "        currentcase = row[1]\n",
    "        currentevent = row[3]\n",
    "        if currentcase in df_dictionary:\n",
    "            df_filtered = df_dictionary[currentcase]\n",
    "        else:\n",
    "            if filter_method == \"maxdist\":\n",
    "                df_filtered = filter_df_similar_maxdist(df_2012, case_events, row[1], n)\n",
    "            if filter_method == \"closestx\":\n",
    "                df_filtered = filter_df_similar_closestx(df_2012, case_events, row[1], n)\n",
    "            df_dictionary[currentcase] = df_filtered\n",
    "        ADDNEXT = False\n",
    "        for row1 in df_filtered.itertuples(index=True):\n",
    "            if ADDNEXT == True:\n",
    "                if lastcase == row1[1]:\n",
    "                    eventlist.append(row1[2])\n",
    "                ADDNEXT = False\n",
    "            if row1[2] == currentevent:\n",
    "                lastcase = row1[1]\n",
    "                ADDNEXT = True\n",
    "        mostcommonevent = get_first_mode(eventlist)\n",
    "        df_cols.loc[currentrow, \"event_prediction\"] = mostcommonevent\n",
    "        eventlist.clear()\n",
    "    result = pd.concat([df_cols, df_2012], axis=1)\n",
    "    return result"
   ]
  },
  {
   "cell_type": "code",
   "execution_count": 8,
   "metadata": {},
   "outputs": [],
   "source": [
    "def save_results(output_name, result):\n",
    "    result.to_csv(output_name + \".csv\")"
   ]
  },
  {
   "cell_type": "code",
   "execution_count": null,
   "metadata": {},
   "outputs": [
    {
     "name": "stdin",
     "output_type": "stream",
     "text": [
      "Please enter the path of the input file: BPI_Challenge_2012-training.csv\n",
      "Please enter a name and path for the output: DM_out_2012train_maxdist20\n",
      "Please enter how you would like to filter on cases(maxdist/closestx): maxdist\n",
      "Please enter the maximum Damerau-Levenshtein distance for traces to be used in predictions: 20\n"
     ]
    },
    {
     "name": "stdout",
     "output_type": "stream",
     "text": [
      "Now predicting events.. Please be patient as this can take a while depending on the size of the input file.\n"
     ]
    }
   ],
   "source": [
    "input_path = input(\"Please enter the path of the input file:\")\n",
    "output_name = input(\"Please enter a name and path for the output:\")\n",
    "result = add_predicted_events(pd.read_csv(input_path))\n",
    "save_results(output_name, result)"
   ]
  }
 ],
 "metadata": {
  "kernelspec": {
   "display_name": "Python 3",
   "language": "python",
   "name": "python3"
  },
  "language_info": {
   "codemirror_mode": {
    "name": "ipython",
    "version": 3
   },
   "file_extension": ".py",
   "mimetype": "text/x-python",
   "name": "python",
   "nbconvert_exporter": "python",
   "pygments_lexer": "ipython3",
   "version": "3.7.3"
  }
 },
 "nbformat": 4,
 "nbformat_minor": 2
}
